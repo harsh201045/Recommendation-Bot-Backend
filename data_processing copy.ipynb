{
 "cells": [
  {
   "cell_type": "code",
   "execution_count": 2,
   "metadata": {},
   "outputs": [
    {
     "data": {
      "text/html": [
       "<div>\n",
       "<style scoped>\n",
       "    .dataframe tbody tr th:only-of-type {\n",
       "        vertical-align: middle;\n",
       "    }\n",
       "\n",
       "    .dataframe tbody tr th {\n",
       "        vertical-align: top;\n",
       "    }\n",
       "\n",
       "    .dataframe thead th {\n",
       "        text-align: right;\n",
       "    }\n",
       "</style>\n",
       "<table border=\"1\" class=\"dataframe\">\n",
       "  <thead>\n",
       "    <tr style=\"text-align: right;\">\n",
       "      <th></th>\n",
       "      <th>ProductID</th>\n",
       "      <th>ProductName</th>\n",
       "      <th>ProductBrand</th>\n",
       "      <th>Gender</th>\n",
       "      <th>Price (INR)</th>\n",
       "      <th>NumImages</th>\n",
       "      <th>Description</th>\n",
       "      <th>PrimaryColor</th>\n",
       "    </tr>\n",
       "  </thead>\n",
       "  <tbody>\n",
       "    <tr>\n",
       "      <th>0</th>\n",
       "      <td>10017413</td>\n",
       "      <td>DKNY Unisex Black &amp; Grey Printed Medium Trolle...</td>\n",
       "      <td>DKNY</td>\n",
       "      <td>Unisex</td>\n",
       "      <td>11745</td>\n",
       "      <td>7</td>\n",
       "      <td>Black and grey printed medium trolley bag, sec...</td>\n",
       "      <td>Black</td>\n",
       "    </tr>\n",
       "    <tr>\n",
       "      <th>1</th>\n",
       "      <td>10016283</td>\n",
       "      <td>EthnoVogue Women Beige &amp; Grey Made to Measure ...</td>\n",
       "      <td>EthnoVogue</td>\n",
       "      <td>Women</td>\n",
       "      <td>5810</td>\n",
       "      <td>7</td>\n",
       "      <td>Beige &amp; Grey made to measure kurta with churid...</td>\n",
       "      <td>Beige</td>\n",
       "    </tr>\n",
       "    <tr>\n",
       "      <th>2</th>\n",
       "      <td>10009781</td>\n",
       "      <td>SPYKAR Women Pink Alexa Super Skinny Fit High-...</td>\n",
       "      <td>SPYKAR</td>\n",
       "      <td>Women</td>\n",
       "      <td>899</td>\n",
       "      <td>7</td>\n",
       "      <td>Pink coloured wash 5-pocket high-rise cropped ...</td>\n",
       "      <td>Pink</td>\n",
       "    </tr>\n",
       "    <tr>\n",
       "      <th>3</th>\n",
       "      <td>10015921</td>\n",
       "      <td>Raymond Men Blue Self-Design Single-Breasted B...</td>\n",
       "      <td>Raymond</td>\n",
       "      <td>Men</td>\n",
       "      <td>5599</td>\n",
       "      <td>5</td>\n",
       "      <td>Blue self-design bandhgala suitBlue self-desig...</td>\n",
       "      <td>Blue</td>\n",
       "    </tr>\n",
       "    <tr>\n",
       "      <th>4</th>\n",
       "      <td>10017833</td>\n",
       "      <td>Parx Men Brown &amp; Off-White Slim Fit Printed Ca...</td>\n",
       "      <td>Parx</td>\n",
       "      <td>Men</td>\n",
       "      <td>759</td>\n",
       "      <td>5</td>\n",
       "      <td>Brown and off-white printed casual shirt, has ...</td>\n",
       "      <td>White</td>\n",
       "    </tr>\n",
       "  </tbody>\n",
       "</table>\n",
       "</div>"
      ],
      "text/plain": [
       "   ProductID                                        ProductName ProductBrand  \\\n",
       "0   10017413  DKNY Unisex Black & Grey Printed Medium Trolle...         DKNY   \n",
       "1   10016283  EthnoVogue Women Beige & Grey Made to Measure ...   EthnoVogue   \n",
       "2   10009781  SPYKAR Women Pink Alexa Super Skinny Fit High-...       SPYKAR   \n",
       "3   10015921  Raymond Men Blue Self-Design Single-Breasted B...      Raymond   \n",
       "4   10017833  Parx Men Brown & Off-White Slim Fit Printed Ca...         Parx   \n",
       "\n",
       "   Gender  Price (INR)  NumImages  \\\n",
       "0  Unisex        11745          7   \n",
       "1   Women         5810          7   \n",
       "2   Women          899          7   \n",
       "3     Men         5599          5   \n",
       "4     Men          759          5   \n",
       "\n",
       "                                         Description PrimaryColor  \n",
       "0  Black and grey printed medium trolley bag, sec...        Black  \n",
       "1  Beige & Grey made to measure kurta with churid...        Beige  \n",
       "2  Pink coloured wash 5-pocket high-rise cropped ...         Pink  \n",
       "3  Blue self-design bandhgala suitBlue self-desig...         Blue  \n",
       "4  Brown and off-white printed casual shirt, has ...        White  "
      ]
     },
     "execution_count": 2,
     "metadata": {},
     "output_type": "execute_result"
    }
   ],
   "source": [
    "import pandas as pd\n",
    "df = pd.read_csv(\"data/fashion_data.csv\")\n",
    "df.head()"
   ]
  },
  {
   "cell_type": "code",
   "execution_count": 3,
   "metadata": {},
   "outputs": [],
   "source": [
    "df = df.drop(columns=[\"ProductID\",\"NumImages\"])"
   ]
  },
  {
   "cell_type": "code",
   "execution_count": 4,
   "metadata": {},
   "outputs": [
    {
     "data": {
      "text/plain": [
       "Index(['ProductName', 'ProductBrand', 'Gender', 'Price (INR)', 'Description',\n",
       "       'PrimaryColor'],\n",
       "      dtype='object')"
      ]
     },
     "execution_count": 4,
     "metadata": {},
     "output_type": "execute_result"
    }
   ],
   "source": [
    "df.columns"
   ]
  },
  {
   "cell_type": "code",
   "execution_count": 5,
   "metadata": {},
   "outputs": [],
   "source": [
    "df = df.dropna()"
   ]
  },
  {
   "cell_type": "code",
   "execution_count": 6,
   "metadata": {},
   "outputs": [],
   "source": [
    "df[\"Price (INR)\"] = df[\"Price (INR)\"].apply(lambda x : \"price {} \".format(x))"
   ]
  },
  {
   "cell_type": "code",
   "execution_count": 7,
   "metadata": {},
   "outputs": [],
   "source": [
    "df[\"str\"] = df['ProductBrand'] +\" \"+ df['Gender'] +\" \"+ df['ProductName'] +\" \"+ df[\"PrimaryColor\"]+  \" \" +  df[\"Price (INR)\"]  + df[\"Description\"]"
   ]
  },
  {
   "cell_type": "code",
   "execution_count": 8,
   "metadata": {},
   "outputs": [
    {
     "data": {
      "text/plain": [
       "'DKNY Unisex DKNY Unisex Black & Grey Printed Medium Trolley Bag  Black price 11745 Black and grey printed medium trolley bag, secured with a TSA lockOne handle on the top and one on the side, has a trolley with a retractable handle on the top and four corner mounted inline skate wheelsOne main zip compartment, zip lining, two compression straps with click clasps, one zip compartment on the flap with three zip pocketsWarranty: 5 yearsWarranty provided by Brand Owner / Manufacturer'"
      ]
     },
     "execution_count": 8,
     "metadata": {},
     "output_type": "execute_result"
    }
   ],
   "source": [
    "df['str'][0]"
   ]
  },
  {
   "cell_type": "code",
   "execution_count": 9,
   "metadata": {},
   "outputs": [
    {
     "name": "stderr",
     "output_type": "stream",
     "text": [
      "d:\\anaconda\\installed\\envs\\chatbot\\Lib\\site-packages\\tqdm\\auto.py:21: TqdmWarning: IProgress not found. Please update jupyter and ipywidgets. See https://ipywidgets.readthedocs.io/en/stable/user_install.html\n",
      "  from .autonotebook import tqdm as notebook_tqdm\n"
     ]
    },
    {
     "data": {
      "text/plain": [
       "True"
      ]
     },
     "execution_count": 9,
     "metadata": {},
     "output_type": "execute_result"
    }
   ],
   "source": [
    "from langchain_core.documents import Document\n",
    "from langchain.text_splitter import CharacterTextSplitter\n",
    "import os\n",
    "from dotenv import load_dotenv\n",
    "import requests\n",
    "\n",
    "from langchain_google_genai import GoogleGenerativeAI\n",
    "from langchain_community.embeddings import HuggingFaceInferenceAPIEmbeddings\n",
    "import os\n",
    "from dotenv import load_dotenv\n",
    "from langchain import OpenAI\n",
    "import openai\n",
    "from langchain_community.vectorstores import Milvus\n",
    "from langchain.chains import RetrievalQA \n",
    "from langchain.memory import ConversationBufferWindowMemory\n",
    "from langchain import PromptTemplate\n",
    "from langchain.memory import PostgresChatMessageHistory\n",
    "\n",
    "load_dotenv()"
   ]
  },
  {
   "cell_type": "code",
   "execution_count": 10,
   "metadata": {},
   "outputs": [
    {
     "data": {
      "text/plain": [
       "0    DKNY Unisex DKNY Unisex Black & Grey Printed M...\n",
       "1    EthnoVogue Women EthnoVogue Women Beige & Grey...\n",
       "2    SPYKAR Women SPYKAR Women Pink Alexa Super Ski...\n",
       "3    Raymond Men Raymond Men Blue Self-Design Singl...\n",
       "4    Parx Men Parx Men Brown & Off-White Slim Fit P...\n",
       "5    SHOWOFF Men SHOWOFF Men Brown Solid Slim Fit R...\n",
       "6    Parx Men Parx Men Blue Slim Fit Checked Casual...\n",
       "7    SPYKAR Women SPYKAR Women Burgundy Alexa Super...\n",
       "8    Parx Men Parx Men Brown Tapered Fit Solid Regu...\n",
       "9    DKNY Unisex DKNY Unisex Black Large Trolley Ba...\n",
       "Name: str, dtype: object"
      ]
     },
     "execution_count": 10,
     "metadata": {},
     "output_type": "execute_result"
    }
   ],
   "source": [
    "df[\"str\"][:10]"
   ]
  },
  {
   "cell_type": "code",
   "execution_count": 11,
   "metadata": {},
   "outputs": [],
   "source": [
    "seperator = \"\\n ************ \\n\"\n",
    "data = \" \"\n",
    "for i in df[\"str\"][:20]:\n",
    "    # print(type(data) ,type(i) ,type(seperator) , )\n",
    "    data = data + i + seperator\n"
   ]
  },
  {
   "cell_type": "code",
   "execution_count": 12,
   "metadata": {},
   "outputs": [],
   "source": [
    "def get_docs(collection_name):\n",
    "    # data = get_data(collection_name)\n",
    "    text_splitter = CharacterTextSplitter(\n",
    "        separator = \"************\",\n",
    "        chunk_size=900,\n",
    "        chunk_overlap=0\n",
    "    )\n",
    "    dataDocument = [Document(page_content=data, metadata={\"namespace\": collection_name})]\n",
    "    docs = text_splitter.split_documents(dataDocument)\n",
    "    return docs\n",
    "\n",
    "\n",
    "\n",
    "def create_vectorDB(collection_name):\n",
    "    docs = get_docs(collection_name)\n",
    "    initialize_embeddings()\n",
    "    global vector_db\n",
    "    vector_db = Milvus.from_documents(\n",
    "        docs,\n",
    "        embeddings,\n",
    "        collection_name=collection_name,\n",
    "        connection_args={\n",
    "            \"uri\":os.getenv(\"ZILLIZ_CLOUD_URI\") ,\n",
    "            \"user\":os.getenv(\"ZILLIZ_CLOUD_USERNAME\") ,\n",
    "            \"password\":os.getenv(\"ZILLIZ_CLOUD_PASSWORD\") ,\n",
    "            # \"token\": ZILLIZ_CLOUD_API_KEY,  # API key, for serverless clusters which can be used as replacements for user and password\n",
    "            \"secure\": True,\n",
    "        },\n",
    "    )\n",
    "\n",
    "\n",
    "def initialize_embeddings():\n",
    "    try :\n",
    "        global embeddings\n",
    "        embeddings = HuggingFaceInferenceAPIEmbeddings(\n",
    "            api_key=os.getenv(\"HUGGINGFACE_API_KEY\"), model_name=\"sentence-transformers/all-MiniLM-l6-v2\"\n",
    "        )\n",
    "    except Exception as e :\n",
    "        print(\"probelm accured while creating embeddings \\n{}\".format(e))\n"
   ]
  },
  {
   "cell_type": "code",
   "execution_count": 13,
   "metadata": {},
   "outputs": [],
   "source": [
    "create_vectorDB(\"similarity\")"
   ]
  },
  {
   "cell_type": "code",
   "execution_count": 14,
   "metadata": {},
   "outputs": [],
   "source": [
    "text_splitter = CharacterTextSplitter(\n",
    "    separator = \"************\",\n",
    "    chunk_size=900,\n",
    "    chunk_overlap=0\n",
    ")\n",
    "dataDocument = [Document(page_content=data, metadata={\"namespace\": \"simm\"})]\n",
    "docs = text_splitter.split_documents(dataDocument)"
   ]
  },
  {
   "cell_type": "code",
   "execution_count": 17,
   "metadata": {},
   "outputs": [],
   "source": [
    "def load_vectorDB(collection_name):\n",
    "    global vector_db\n",
    "    vector_db = Milvus(\n",
    "    embeddings,\n",
    "    collection_name=collection_name,\n",
    "    connection_args={\n",
    "    \"uri\":os.getenv(\"ZILLIZ_CLOUD_URI\") ,\n",
    "    \"user\":os.getenv(\"ZILLIZ_CLOUD_USERNAME\") ,\n",
    "    \"password\":os.getenv(\"ZILLIZ_CLOUD_PASSWORD\") ,\n",
    "    # \"token\": ZILLIZ_CLOUD_API_KEY,  # API key, for serverless clusters which can be used as replacements for user and password\n",
    "    \"secure\": True,\n",
    "    },\n",
    ")\n",
    "    \n",
    "load_vectorDB(\"similarity\")\n"
   ]
  },
  {
   "cell_type": "code",
   "execution_count": 19,
   "metadata": {},
   "outputs": [
    {
     "name": "stdout",
     "output_type": "stream",
     "text": [
      " DKNY Unisex DKNY Unisex Black & Grey Printed Medium Trolley Bag  Black price 11745 Black and grey printed medium trolley bag, secured with a TSA lockOne handle on the top and one on the side, has a trolley with a retractable handle on the top and four corner mounted inline skate wheelsOne main zip compartment, zip lining, two compression straps with click clasps, one zip compartment on the flap with three zip pocketsWarranty: 5 yearsWarranty provided by Brand Owner / Manufacturer\n",
      " ************ \n",
      "EthnoVogue Women EthnoVogue Women Beige & Grey Made to Measure Custom Made Kurta Set with Jacket  Beige price 5810 Beige & Grey made to measure kurta with churidar and dupattaBeige made to measure calf length kurta, has a V-neck, three-quarter sleeves, lightly padded on bust, flared hem, concealed zip closureGrey solid made to measure churidar, drawstring closureGrey net sequined dupatta, has printed tapingWhat is Made to Measure?Customised Kurta Set according to your Bust and Length. So please refer to the Size Chart to pick your perfect size.How to measure bust?Measure under your arms and around your chest to find your bust size in inchesHow to measure Kurta length?Measure from shoulder till barefoot to find kurta length in\n",
      " ************ \n",
      "SPYKAR Women SPYKAR Women Pink Alexa Super Skinny Fit High-Rise Clean Look Stretchable Cropped Jeans  Pink price 899 Pink coloured wash 5-pocket high-rise cropped jeans, clean look, no fade, has a button and zip closure, and waistband with belt loops\n",
      " ************ \n",
      "Raymond Men Raymond Men Blue Self-Design Single-Breasted Bandhgala Suit Blue price 5599 Blue self-design bandhgala suitBlue self-design bandhgala blazer, has a mandarin collar, single breasted with full button placket, long sleeves, three pockets, an attached lining and a double-vented back hemBlue self-design mid-rise trousers, has a zip fly with a button and a hook-and-bar closure, four pockets, a waistband with belt loops\n",
      " ************ \n",
      "Parx Men Parx Men Brown & Off-White Slim Fit Printed Casual Shirt  White price 759 Brown and off-white printed casual shirt, has a spread collar, long sleeves, button placket,  curved hem, one patch pocket\n",
      " ************ \n",
      "SHOWOFF Men SHOWOFF Men Brown Solid Slim Fit Regular Shorts  Brown price 791 Brown solid low-rise regular shorts, has four pockets, a button closure\n",
      " ************ \n",
      "Parx Men Parx Men Blue Slim Fit Checked Casual Shirt Blue price 719 Blue checked casual shirt, has a spread collar, long sleeves, button placket,  curved hem, one patch pocket\n",
      " ************ \n",
      "SPYKAR Women SPYKAR Women Burgundy Alexa Super Skinny Fit High-Rise Clean Look Stretchable Ankle Jeans  Burgundy price 899 Burgundy coloured wash 5-pocket high-rise jeans, clean look, no fade, has a button and zip closure, and waistband with belt loops\n",
      " ************ \n",
      "Parx Men Parx Men Brown Tapered Fit Solid Regular Trousers  Red price 664 Brown solid regular trousers regular trousers\n",
      " ************ \n",
      "DKNY Unisex DKNY Unisex Black Large Trolley Bag  Black price 17360 Black solid large trolley bag, secured with a TSA lockOne handle on the top and one on the side, has a trolley with a retractable handle on the top and four corner mounted inline skate wheelsOne main zip compartment, zip lining, two compression straps with click clasps and one zip pocketOne exterior zip pocketWarranty: 5 yearsWarranty provided by Brand Owner / Manufacturer\n",
      " ************ \n",
      "Kenneth Cole Women Kenneth Cole Women Navy Blue Solid Backpack Blue price 2463 Navy Blue backpackNon-Padded haul loop1 main compartment with zip closurePadded backZip PocketPadded shoulder strap: PaddedWater-resistance: No\n",
      " ************ \n",
      "Parx Men Parx Men Green Printed Polo Collar T-shirt  Green price 629 Green printed T-shirt, has a polo collar, and short sleeves\n",
      " ************ \n",
      "Vishudh Women Vishudh Women Maroon Printed Kurta with Palazzos  Maroon price 892 Maroon printed kurta with palazzos Maroon straight calf length kurta, has a round neck, three-quarter sleeves, straight hem, side slitsMaroon  Printed palazzos, has elasticated waistband, slip-on closure\n",
      " ************ \n",
      "Parx Men Parx Men Red Slim Fit Checked Casual Shirt  Red price 752 Red checked casual shirt, has a spread collar, long sleeves, button placket,  curved hem, one patch pocket\n",
      " ************ \n",
      "Being Human Men Being Human Clothing Navy Printed Casual Slim Shirt  Navy price 1079 Navy blue printed casual shirt, has a spread collar, a full button placket, two pockets, long sleeves, a curved hem\n",
      " ************ \n",
      "Homesake Unisex Homesake Gold-Toned & White Solid Handcrafted Table Lamp with Shade  White price 1620 Type: Handcrafted Table Lamp with ShadeColour: Gold-Toned and whitePattern: SolidShape: FrustumShade material: FabricBase material: AluminiumBulb Holder Type: E27Switch Type: Toggle ButtonComes with bulb\n",
      " ************ \n",
      "SEJ by Nisha Gupta Unisex SEJ by Nisha Gupta Set of 6 Mustard & Blue Printed Table Placemats Blue price 899 Set content: 6 table mats Shape: Rectangle Colour: Mustard and blue Pattern: Printed Suitable For: 6 seater table Material: Cotton \n",
      " ************ \n",
      "YAK YAK Men YAK YAK Men Camel Brown Solid Polo Collar T-shirt  Brown price 599 Camel brown solid T-shirt, has polo collar, short sleeves\n",
      " ************ \n",
      "PARFAIT Women PARFAIT Plus Size Black Striped Non-Wired Lightly Padded T-shirt Bra P5252  Red price 1749 Black striped medium-coverage T-shirt braLightly Padded and Non-Wired seamless cupsRegular straps and back closureBack style: RegularFeature: All Day Comfort\n",
      " ************ \n",
      "HIGHLANDER Men HIGHLANDER Men Mustard & Black Slim Fit Checked Casual Shirt  Black price 699 Mustard and black checked casual shirt, has a spread collar, long sleeves, button placket,  curved hem, one patch pocket\n",
      " ************ \n",
      "\n"
     ]
    }
   ],
   "source": [
    "print(data)"
   ]
  },
  {
   "cell_type": "code",
   "execution_count": 21,
   "metadata": {},
   "outputs": [
    {
     "data": {
      "text/plain": [
       "[Document(page_content='SPYKAR Women SPYKAR Women Pink Alexa Super Skinny Fit High-Rise Clean Look Stretchable Cropped Jeans  Pink price 899 Pink coloured wash 5-pocket high-rise cropped jeans, clean look, no fade, has a button and zip closure, and waistband with belt loops\\n ************ \\nRaymond Men Raymond Men Blue Self-Design Single-Breasted Bandhgala Suit Blue price 5599 Blue self-design bandhgala suitBlue self-design bandhgala blazer, has a mandarin collar, single breasted with full button placket, long sleeves, three pockets, an attached lining and a double-vented back hemBlue self-design mid-rise trousers, has a zip fly with a button and a hook-and-bar closure, four pockets, a waistband with belt loops', metadata={'namespace': 'similarity'}),\n",
       " Document(page_content='Parx Men Parx Men Brown & Off-White Slim Fit Printed Casual Shirt  White price 759 Brown and off-white printed casual shirt, has a spread collar, long sleeves, button placket,  curved hem, one patch pocket\\n ************ \\nSHOWOFF Men SHOWOFF Men Brown Solid Slim Fit Regular Shorts  Brown price 791 Brown solid low-rise regular shorts, has four pockets, a button closure\\n ************ \\nParx Men Parx Men Blue Slim Fit Checked Casual Shirt Blue price 719 Blue checked casual shirt, has a spread collar, long sleeves, button placket,  curved hem, one patch pocket\\n ************ \\nSPYKAR Women SPYKAR Women Burgundy Alexa Super Skinny Fit High-Rise Clean Look Stretchable Ankle Jeans  Burgundy price 899 Burgundy coloured wash 5-pocket high-rise jeans, clean look, no fade, has a button and zip closure, and waistband with belt loops', metadata={'namespace': 'similarity'}),\n",
       " Document(page_content='Homesake Unisex Homesake Gold-Toned & White Solid Handcrafted Table Lamp with Shade  White price 1620 Type: Handcrafted Table Lamp with ShadeColour: Gold-Toned and whitePattern: SolidShape: FrustumShade material: FabricBase material: AluminiumBulb Holder Type: E27Switch Type: Toggle ButtonComes with bulb\\n ************ \\nSEJ by Nisha Gupta Unisex SEJ by Nisha Gupta Set of 6 Mustard & Blue Printed Table Placemats Blue price 899 Set content: 6 table mats Shape: Rectangle Colour: Mustard and blue Pattern: Printed Suitable For: 6 seater table Material: Cotton \\n ************ \\nYAK YAK Men YAK YAK Men Camel Brown Solid Polo Collar T-shirt  Brown price 599 Camel brown solid T-shirt, has polo collar, short sleeves', metadata={'namespace': 'similarity'}),\n",
       " Document(page_content='Parx Men Parx Men Green Printed Polo Collar T-shirt  Green price 629 Green printed T-shirt, has a polo collar, and short sleeves\\n ************ \\nVishudh Women Vishudh Women Maroon Printed Kurta with Palazzos  Maroon price 892 Maroon printed kurta with palazzos Maroon straight calf length kurta, has a round neck, three-quarter sleeves, straight hem, side slitsMaroon  Printed palazzos, has elasticated waistband, slip-on closure\\n ************ \\nParx Men Parx Men Red Slim Fit Checked Casual Shirt  Red price 752 Red checked casual shirt, has a spread collar, long sleeves, button placket,  curved hem, one patch pocket\\n ************ \\nBeing Human Men Being Human Clothing Navy Printed Casual Slim Shirt  Navy price 1079 Navy blue printed\\xa0casual shirt, has a spread collar, a full button placket, two pockets,\\xa0long sleeves, a curved hem', metadata={'namespace': 'similarity'}),\n",
       " Document(page_content='PARFAIT Women PARFAIT Plus Size Black Striped Non-Wired Lightly Padded T-shirt Bra P5252  Red price 1749 Black striped medium-coverage T-shirt braLightly Padded and Non-Wired seamless cupsRegular straps and back closureBack style: RegularFeature: All Day Comfort\\n ************ \\nHIGHLANDER Men HIGHLANDER Men Mustard & Black Slim Fit Checked Casual Shirt  Black price 699 Mustard and black checked casual shirt, has a spread collar, long sleeves, button placket,  curved hem, one patch pocket\\n ************', metadata={'namespace': 'similarity'}),\n",
       " Document(page_content='DKNY Unisex DKNY Unisex Black & Grey Printed Medium Trolley Bag  Black price 11745 Black and grey printed medium trolley bag, secured with a TSA lockOne handle on the top and one on the side, has a trolley with a retractable handle on the top and four corner mounted inline skate wheelsOne main zip compartment, zip lining, two compression straps with click clasps, one zip compartment on the flap with three zip pocketsWarranty: 5 yearsWarranty provided by Brand Owner / Manufacturer', metadata={'namespace': 'similarity'}),\n",
       " Document(page_content='Parx Men Parx Men Brown Tapered Fit Solid Regular Trousers  Red price 664 Brown solid regular trousers regular trousers\\n ************ \\nDKNY Unisex DKNY Unisex Black Large Trolley Bag  Black price 17360 Black solid large trolley bag, secured with a TSA lockOne handle on the top and one on the side, has a trolley with a retractable handle on the top and four corner mounted inline skate wheelsOne main zip compartment, zip lining, two compression straps with click clasps and one zip pocketOne exterior zip pocketWarranty: 5 yearsWarranty provided by Brand Owner / Manufacturer\\n ************ \\nKenneth Cole Women Kenneth Cole Women Navy Blue Solid Backpack Blue price 2463 Navy Blue backpackNon-Padded haul loop1 main compartment with zip closurePadded backZip PocketPadded shoulder strap: PaddedWater-resistance: No', metadata={'namespace': 'similarity'}),\n",
       " Document(page_content='EthnoVogue Women EthnoVogue Women Beige & Grey Made to Measure Custom Made Kurta Set with Jacket  Beige price 5810 Beige & Grey made to measure kurta with churidar and\\xa0dupattaBeige made to measure calf\\xa0length kurta, has a V-neck, three-quarter sleeves, lightly padded on bust, flared hem, concealed zip closureGrey solid made to measure churidar, drawstring closureGrey net sequined dupatta, has printed tapingWhat is Made to Measure?Customised Kurta Set according to your Bust and Length. So please refer to the Size Chart to pick your perfect size.How to measure bust?Measure under your arms and around your chest to find your bust size in inchesHow to measure Kurta length?Measure from shoulder till barefoot to find kurta length in', metadata={'namespace': 'similarity'})]"
      ]
     },
     "execution_count": 21,
     "metadata": {},
     "output_type": "execute_result"
    }
   ],
   "source": [
    "vector_db.similarity_search(query=\"black jeans\" , k=10)"
   ]
  }
 ],
 "metadata": {
  "kernelspec": {
   "display_name": "chatbot",
   "language": "python",
   "name": "python3"
  },
  "language_info": {
   "codemirror_mode": {
    "name": "ipython",
    "version": 3
   },
   "file_extension": ".py",
   "mimetype": "text/x-python",
   "name": "python",
   "nbconvert_exporter": "python",
   "pygments_lexer": "ipython3",
   "version": "3.11.5"
  }
 },
 "nbformat": 4,
 "nbformat_minor": 2
}
